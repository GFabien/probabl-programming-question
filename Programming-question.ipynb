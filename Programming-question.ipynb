{
 "cells": [
  {
   "cell_type": "markdown",
   "metadata": {},
   "source": [
    "## Programming question:\n",
    "\n",
    "Using `sklearn.model_selection.permutation_test_score`, compute the p-value indicating if the score obtained by an instance of `sklearn.dummy.DummyClassifier` on the dataset `sklearn.datasets.load_iris` is obtained by chance.\n",
    "\n",
    "Repeat this analysis using `sklearn.ensemble.HistGradientBoostingClassifier` instead of `sklearn.dummy.DummyClassifier`.\n",
    "\n",
    "What can you conclude about:\n",
    "- the existence of a significant statistical association between the iris type and the input features (petal and sepal width and length)?\n",
    "- the ability of each kind of estimator to assess or not such a statistical association between features and target variable?\n",
    "\n",
    "Write the code and answers to the questions in a notebook. Put the resulting notebook in a GitHub repository, and leave the link to the notebook file in the application form under “Answer to the programming question” field."
   ]
  },
  {
   "cell_type": "markdown",
   "metadata": {},
   "source": [
    "## Answer to programming question: "
   ]
  },
  {
   "cell_type": "code",
   "execution_count": 1,
   "metadata": {},
   "outputs": [],
   "source": [
    "# Load the dataset, permutation_test and classifiers\n",
    "from sklearn.datasets import load_iris\n",
    "from sklearn.model_selection import permutation_test_score\n",
    "from sklearn.dummy import DummyClassifier\n",
    "from sklearn.ensemble import HistGradientBoostingClassifier"
   ]
  },
  {
   "cell_type": "code",
   "execution_count": 2,
   "metadata": {},
   "outputs": [
    {
     "name": "stdout",
     "output_type": "stream",
     "text": [
      "Results for DummyClassifier:\n",
      "score: \t\t 0.3333333333333333\n",
      "pvalue: \t 1.0\n",
      "Results for HistGradientBoostingClassifier:\n",
      "score: \t\t 0.9466666666666667\n",
      "pvalue: \t 0.009900990099009901\n"
     ]
    }
   ],
   "source": [
    "# Evaluate the statistical association between the iris type and the input features\n",
    "X, y = load_iris(return_X_y=True)\n",
    "\n",
    "score, permutation_scores, pvalue = permutation_test_score(\n",
    "   DummyClassifier(), X, y, random_state=0\n",
    ")\n",
    "print(\"Results for DummyClassifier:\")\n",
    "print(\"score: \\t\\t\", score)\n",
    "print(\"pvalue: \\t\", pvalue)\n",
    "\n",
    "score, permutation_scores, pvalue = permutation_test_score(\n",
    "   HistGradientBoostingClassifier(), X, y, random_state=0\n",
    ")\n",
    "print(\"Results for HistGradientBoostingClassifier:\")\n",
    "print(\"score: \\t\\t\", score)\n",
    "print(\"pvalue: \\t\", pvalue)"
   ]
  },
  {
   "cell_type": "markdown",
   "metadata": {},
   "source": [
    "### Conclusion\n",
    "The iris dataset contains 150 samples of 3 classes, each containing 50 individuals. \n",
    "\n",
    "The `DummyClassifier` always predicts the first class, whatever the input features. Therefore, this classifier cannot assess any statistical association between the input features and the sample class. That is why it has a score of 1/3 and a p-value of 1: whatever the permutation, there are always 1/3 of samples with the first class, so 1/3 of the samples will be correctly classified. Hence, the classifier performs equally well on all permutations.\n",
    "\n",
    "On the other hand, the `HistGradientBoostingClassifier` outputs a prediction as a function of the input features. The high score (~0.95) suggests a strong statistical association between the input features and the sample class. Furthermore, the low p-value (<0.01) indicates that breaking the link between the input features and the classes deteriorates the model's performance. Therefore, we can confidently conclude that there is a statistical association between the input features and the sample class."
   ]
  }
 ],
 "metadata": {
  "kernelspec": {
   "display_name": "AI4IA",
   "language": "python",
   "name": "ai4ia"
  },
  "language_info": {
   "codemirror_mode": {
    "name": "ipython",
    "version": 3
   },
   "file_extension": ".py",
   "mimetype": "text/x-python",
   "name": "python",
   "nbconvert_exporter": "python",
   "pygments_lexer": "ipython3",
   "version": "3.9.7"
  }
 },
 "nbformat": 4,
 "nbformat_minor": 4
}
